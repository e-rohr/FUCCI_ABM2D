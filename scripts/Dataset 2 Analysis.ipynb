{
 "cells": [
  {
   "cell_type": "code",
   "execution_count": 1,
   "id": "c184c85c-21ac-466b-9d9d-a094ab2bde80",
   "metadata": {},
   "outputs": [],
   "source": [
    "import numpy as np\n",
    "\n",
    "# Plotting\n",
    "import matplotlib as mpl\n",
    "import matplotlib.pyplot as plt\n",
    "from matplotlib import colors\n",
    "import matplotlib.gridspec as grid_spec\n",
    "from mpl_toolkits.axes_grid1 import make_axes_locatable\n",
    "import plotly.express as px\n",
    "# Ridgeline plots\n",
    "import joypy\n",
    "\n",
    "from sklearn.decomposition import PCA\n",
    "from sklearn.cluster import KMeans\n",
    "from sklearn.neighbors import KernelDensity\n",
    "import scipy.stats as stats\n",
    "\n",
    "from src.parameter_distributions import parameter_distributions\n",
    "from src.feature_extraction import compile_data"
   ]
  },
  {
   "cell_type": "code",
   "execution_count": null,
   "id": "243fa7e6-b8cc-4f67-b9c8-981b85b830ef",
   "metadata": {
    "tags": []
   },
   "outputs": [],
   "source": [
    "compile_data(2)"
   ]
  },
  {
   "cell_type": "code",
   "execution_count": null,
   "id": "f4758c97-6ce6-4503-8264-185d7865772c",
   "metadata": {
    "tags": []
   },
   "outputs": [],
   "source": [
    "# # Using 1/φ as the overlap parameter for ridgeline plots\n",
    "#     o = (1+np.sqrt(5))/2\n",
    "    \n",
    "# #     # Creating Ridgeline plots of parameter distributions in each cluster\n",
    "#     for c in range(4):\n",
    "#         fig, ax = joypy.joyplot(cluster_distns_copy[c],\n",
    "#                                colormap = mpl.colormaps['cool'].resampled(10),\n",
    "#                                figsize = (8,6),\n",
    "#                                linecolor='#f0f0f0',\n",
    "#                                bins = 11,\n",
    "#                                grid = 'y',\n",
    "#                                 ylabelsize = 20,\n",
    "#                                xlabelsize = 20,\n",
    "#                                 ylim ='own',\n",
    "#                                overlap = 1/o,\n",
    "#                                fade=True,\n",
    "#                                linewidth = 0)\n",
    "#         ax[-1].xaxis.set_ticks_position('none')\n",
    "#         plt.show()"
   ]
  }
 ],
 "metadata": {
  "kernelspec": {
   "display_name": "Python 3.10.11 (ipykernel)",
   "language": "python",
   "name": "python3"
  },
  "language_info": {
   "codemirror_mode": {
    "name": "ipython",
    "version": 3
   },
   "file_extension": ".py",
   "mimetype": "text/x-python",
   "name": "python",
   "nbconvert_exporter": "python",
   "pygments_lexer": "ipython3",
   "version": "3.10.11"
  }
 },
 "nbformat": 4,
 "nbformat_minor": 5
}

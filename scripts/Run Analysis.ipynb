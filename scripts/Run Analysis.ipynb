{
 "cells": [
  {
   "cell_type": "code",
   "execution_count": 1,
   "id": "8b4c82d6-7108-4614-a7e1-424443b80f44",
   "metadata": {
    "tags": []
   },
   "outputs": [],
   "source": [
    "import numpy as np\n",
    "import matplotlib.pyplot as plt\n",
    "from matplotlib import colors\n",
    "import math\n",
    "import scipy.sparse as sp\n",
    "import src.abm2d as abm2d\n",
    "\n",
    "\n"
   ]
  },
  {
   "cell_type": "code",
   "execution_count": 2,
   "id": "e9b73a78-42b9-48b9-9f0f-dfe9c2d7ff84",
   "metadata": {},
   "outputs": [],
   "source": [
    "from src.feature_extraction import compile_data\n",
    "compile_data(1)"
   ]
  },
  {
   "cell_type": "code",
   "execution_count": 3,
   "id": "b45111b2-431d-4133-95d6-2327d575c3e1",
   "metadata": {
    "tags": []
   },
   "outputs": [],
   "source": [
    "# for alpha in [0.0085, 0.0095]:\n",
    "#     N = 1250\n",
    "#     L = 1000\n",
    "#     args = {'N':N,\n",
    "#             'α':alpha,\n",
    "#             'L':L,\n",
    "#         'path': \"../data\",\n",
    "#         'title': f\"abm2d_N={N}_alpha={alpha}_L={L}\",\n",
    "#        }\n",
    "#     abm2d.abm2d(**args)\n",
    "#     out = np.load(f\"{args['path']}/{args['title']}.npz\", allow_pickle=True)\n",
    "#     fig, ax  = plt.subplots(1,6, figsize=(48,9))\n",
    "#     fontsize = 20\n",
    "#     L = out['L']\n",
    "#     Xs = out['X'] - L/2\n",
    "#     Ys = out['Y'] - L/2\n",
    "#     states = out['state'].astype(int)\n",
    "#     for i, day in enumerate(np.arange(0,11,2)):\n",
    "#         living = np.where(states[day] > 0)\n",
    "#         X = Xs[day][living]\n",
    "#         Y = Ys[day][living]\n",
    "#         state = states[day][living]\n",
    "#         title = f\"Day {day}\"\n",
    "    \n",
    "#         colormap = np.array([\"lightseagreen\", \"tab:red\", \"yellow\", \"limegreen\"])\n",
    "#         ax[i].scatter(X,Y,c=colormap[state], s = 64)\n",
    "#         # ax[i].set_xlabel(\"$x$\",fontsize=fontsize)\n",
    "#         # ax[i].set_ylabel(\"$y$\",fontsize=fontsize)\n",
    "#         ax[i].set_xticks([])\n",
    "#         ax[i].set_yticks([])\n",
    "#         ax[i].set_title(title,fontsize=3*fontsize)\n",
    "#         ax[i].set_xlim(-400,400)\n",
    "#         ax[i].set_ylim(-400,400)\n",
    "#         ax[i].set_facecolor('black')\n",
    "#     fig.tight_layout()\n",
    "#     fig.savefig(f'../figures/snapshots_N={N}_alpha={alpha}_L={L}.png')"
   ]
  },
  {
   "cell_type": "code",
   "execution_count": 4,
   "id": "ee39974f-929c-4d9f-872f-ba1245e05008",
   "metadata": {},
   "outputs": [],
   "source": [
    "# for N in np.arange(700,900,50):\n",
    "#     hrs = np.array(np.arange(0,11,2),dtype = int)*24\n",
    "#     L = out['L']\n",
    "#     Xs = out['X'][hrs] - L/2\n",
    "#     Ys = out['Y'][hrs] - L/2\n",
    "#     states = out['state'][hrs].astype(int)\n",
    "#     for i, day in enumerate(np.arange(0,11,2)):\n",
    "#         living = np.where(states[i] > 0)\n",
    "#         tumor = {'X':Xs[i][living],\n",
    "#                  'Y':Ys[i][living],\n",
    "#                  'state': states[i][living],\n",
    "#                  'title': f\"Day {day}\"}\n",
    "#         visualize_cell(**tumor)\n",
    "    "
   ]
  },
  {
   "cell_type": "code",
   "execution_count": null,
   "id": "d8bfc2df-5616-445d-94f4-4188a7f2f3f1",
   "metadata": {},
   "outputs": [],
   "source": []
  },
  {
   "cell_type": "code",
   "execution_count": null,
   "id": "95d897b1-e157-4a2d-b90c-31af439b5108",
   "metadata": {},
   "outputs": [],
   "source": []
  }
 ],
 "metadata": {
  "kernelspec": {
   "display_name": "Python 3.10.11 (ipykernel)",
   "language": "python",
   "name": "python3"
  },
  "language_info": {
   "codemirror_mode": {
    "name": "ipython",
    "version": 3
   },
   "file_extension": ".py",
   "mimetype": "text/x-python",
   "name": "python",
   "nbconvert_exporter": "python",
   "pygments_lexer": "ipython3",
   "version": "3.10.11"
  }
 },
 "nbformat": 4,
 "nbformat_minor": 5
}

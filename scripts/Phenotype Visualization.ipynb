{
 "cells": [
  {
   "cell_type": "code",
   "execution_count": 1,
   "id": "31f2e02c-37f8-49bd-84b8-e57f5def21c4",
   "metadata": {},
   "outputs": [],
   "source": [
    "import os\n",
    "import numpy as np\n",
    "import matplotlib.pyplot as plt\n",
    "from matplotlib import colors\n",
    "import yaml"
   ]
  },
  {
   "cell_type": "code",
   "execution_count": 2,
   "id": "9c820cfb-1b97-47b6-8a4b-4d21ea0d8a33",
   "metadata": {
    "jupyter": {
     "source_hidden": true
    },
    "tags": []
   },
   "outputs": [],
   "source": [
    "def parse_dataset2_file_name(index):\n",
    "    combo_num, remainder = divmod(index, 1210)\n",
    "    param1_num, remainder = divmod(remainder, 11*10)\n",
    "    param2_num, itr = divmod(remainder, 10)\n",
    "    \n",
    "    with open(\"../src/parameters.yaml\") as p:\n",
    "        params = yaml.safe_load(p)\n",
    "        dataset2_info = params[\"dataset2\"]\n",
    "        param_combinations = dataset2_info['parameter_combinations']\n",
    "    \n",
    "    combo = param_combinations[combo_num]\n",
    "    param1, param2 = combo.split(\",\")\n",
    "    \n",
    "    param1_base = dataset2_info[\"parameters\"][param1]\n",
    "    param2_base = dataset2_info[\"parameters\"][param2]\n",
    "            \n",
    "    param1_range = np.logspace(\n",
    "        np.log2(param1_base / 2), np.log2(2 * param1_base), 11, base = 2\n",
    "    )\n",
    "    param2_range = np.logspace(\n",
    "        np.log2(param2_base / 2), np.log2(2 * param2_base), 11, base = 2\n",
    "    )\n",
    "    file_name = f\"../data/dataset2/({param1},{param2})/{param1}={param1_range[param1_num]}_{param2}={param2_range[param2_num]}_itr={itr}.npz\"\n",
    "    \n",
    "    return file_name\n",
    "\n",
    "def parse_dataset1_file_name(index):\n",
    "    c_a_num, remainder = divmod(index, 11*10)\n",
    "    eta1_num, itr = divmod(remainder, 10)\n",
    "    \n",
    "    with open(\"../src/parameters.yaml\") as p:\n",
    "        params = yaml.safe_load(p)\n",
    "        dataset1_info = params[\"dataset1\"]\n",
    "    \n",
    "    c_a_base = dataset1_info[\"parameters\"][\"c_a\"]\n",
    "    eta1_base = dataset1_info[\"parameters\"][\"eta1\"]\n",
    "            \n",
    "    c_a_range = np.logspace(\n",
    "        np.log2(c_a_base / 2), np.log2(2 * c_a_base), 11, base = 2\n",
    "    )\n",
    "    eta1_range = np.logspace(\n",
    "        np.log2(eta1_base / 2), np.log2(2 * eta1_base), 11, base = 2\n",
    "    )\n",
    "    file_name = f\"../data/dataset1/c_a={c_a_range[c_a_num]}_eta1={eta1_range[eta1_base]}_itr={itr}.npz\"\n",
    "    \n",
    "    return file_name"
   ]
  },
  {
   "cell_type": "markdown",
   "id": "f6030a9b-cd96-4c44-bc26-3f4c77f56582",
   "metadata": {},
   "source": [
    "# **Dataset 1**"
   ]
  },
  {
   "cell_type": "code",
   "execution_count": 3,
   "id": "2f0ee54d-b637-486d-9413-4bfc8c91c29f",
   "metadata": {},
   "outputs": [
    {
     "ename": "AssertionError",
     "evalue": "",
     "output_type": "error",
     "traceback": [
      "\u001b[0;31m---------------------------------------------------------------------------\u001b[0m",
      "\u001b[0;31mAssertionError\u001b[0m                            Traceback (most recent call last)",
      "Cell \u001b[0;32mIn[3], line 2\u001b[0m\n\u001b[1;32m      1\u001b[0m num_clusters \u001b[38;5;241m=\u001b[39m \u001b[38;5;241m5\u001b[39m\n\u001b[0;32m----> 2\u001b[0m \u001b[38;5;28;01massert\u001b[39;00m os\u001b[38;5;241m.\u001b[39mpath\u001b[38;5;241m.\u001b[39misfile(\u001b[38;5;124mf\u001b[39m\u001b[38;5;124m\"\u001b[39m\u001b[38;5;124m../results/dataset1/density_phenotype_inds_\u001b[39m\u001b[38;5;132;01m{\u001b[39;00mnum_clusters\u001b[38;5;132;01m}\u001b[39;00m\u001b[38;5;124m_clusters.npy\u001b[39m\u001b[38;5;124m\"\u001b[39m)\n\u001b[1;32m      3\u001b[0m \u001b[38;5;28;01massert\u001b[39;00m os\u001b[38;5;241m.\u001b[39mpath\u001b[38;5;241m.\u001b[39misfile(\u001b[38;5;124mf\u001b[39m\u001b[38;5;124m\"\u001b[39m\u001b[38;5;124m../results/dataset1/cell_counts_phenotype_inds_\u001b[39m\u001b[38;5;132;01m{\u001b[39;00mnum_clusters\u001b[38;5;132;01m}\u001b[39;00m\u001b[38;5;124m_clusters.npy\u001b[39m\u001b[38;5;124m\"\u001b[39m)\n",
      "\u001b[0;31mAssertionError\u001b[0m: "
     ]
    }
   ],
   "source": [
    "num_clusters = 4\n",
    "assert os.path.isfile(f\"../results/dataset1/density_phenotype_inds_{num_clusters}_clusters.npy\")\n",
    "assert os.path.isfile(f\"../results/dataset1/cell_counts_phenotype_inds_{num_clusters}_clusters.npy\")"
   ]
  },
  {
   "cell_type": "markdown",
   "id": "2a9f381c-372b-48c5-b4a0-028fdc4505fa",
   "metadata": {},
   "source": [
    "## Density Phenotypes"
   ]
  },
  {
   "cell_type": "code",
   "execution_count": null,
   "id": "bafd5939-cfd2-477d-ab34-733c764d276c",
   "metadata": {
    "tags": []
   },
   "outputs": [],
   "source": [
    "# Visualize density phenotypes\n",
    "density_phenotype_inds = np.load(f\"../results/dataset1/density_phenotype_inds_{num_clusters}_clusters.npy\", allow_pickle = True)\n",
    "for c, ind in enumerate(density_phenotype_inds):\n",
    "    file_name = parse_dataset1_file_name(ind)\n",
    "    out = np.load(file_name, allow_pickle = True)\n",
    "    fig, ax  = plt.subplots(1,6, figsize=(48,9))\n",
    "    fontsize = 20\n",
    "    L = out['L']\n",
    "    Xs = out['X'] - L/2\n",
    "    Ys = out['Y'] - L/2\n",
    "    states = out['state'].astype(int)\n",
    "    \n",
    "    # Visualize Phenotype progression over 10 days\n",
    "    for i, day in enumerate(np.arange(0,11,2)):\n",
    "        X = Xs[day]\n",
    "        Y = Ys[day]\n",
    "        state = states[day]\n",
    "        title = f\"Day {day}\"\n",
    "    \n",
    "        colormap = np.array([\"lightseagreen\", \"tab:red\", \"yellow\", \"limegreen\"])\n",
    "        ax[i].scatter(X,Y,c=colormap[state], s = 32)\n",
    "        ax[i].set_xticks([])\n",
    "        ax[i].set_yticks([])\n",
    "        ax[i].set_title(title,fontsize=3*fontsize)\n",
    "        ax[i].set_xlim(-400,400)\n",
    "        ax[i].set_ylim(-400,400)\n",
    "        ax[i].set_facecolor('black')\n",
    "    fig.tight_layout()\n",
    "    fig.savefig(f'../figures/dataset1/density_phenotype_{c}_of_{num_clusters}_clusters.png')"
   ]
  },
  {
   "cell_type": "markdown",
   "id": "da17dddb-e21a-49df-993d-6b25f4de2b6c",
   "metadata": {
    "tags": []
   },
   "source": [
    "## Cell Counts Phenotypes"
   ]
  },
  {
   "cell_type": "code",
   "execution_count": null,
   "id": "77250e08-ebd2-4c43-8e7d-1e8d0e575443",
   "metadata": {
    "tags": []
   },
   "outputs": [],
   "source": [
    "# Visualize cell counts phenotypes\n",
    "cell_counts_phenotype_inds = np.load(f\"../results/dataset1/cell_counts_phenotype_inds_{num_clusters}_clusters.npy\", allow_pickle = True)\n",
    "for c, ind in enumerate(cell_counts_phenotype_inds):\n",
    "    file_name = parse_dataset1_file_name(ind)\n",
    "    out = np.load(file_name, allow_pickle = True)\n",
    "    fig, ax  = plt.subplots(1,6, figsize=(48,9))\n",
    "    fontsize = 20\n",
    "    L = out['L']\n",
    "    Xs = out['X'] - L/2\n",
    "    Ys = out['Y'] - L/2\n",
    "    states = out['state'].astype(int)\n",
    "    \n",
    "    # Visualize Phenotype progression over 10 days\n",
    "    for i, day in enumerate(np.arange(0,11,2)):\n",
    "        X = Xs[day]\n",
    "        Y = Ys[day]\n",
    "        state = states[day]\n",
    "        title = f\"Day {day}\"\n",
    "    \n",
    "        colormap = np.array([\"lightseagreen\", \"tab:red\", \"yellow\", \"limegreen\"])\n",
    "        ax[i].scatter(X,Y,c=colormap[state], s = 48)\n",
    "        ax[i].set_xticks([])\n",
    "        ax[i].set_yticks([])\n",
    "        ax[i].set_title(title,fontsize=3*fontsize)\n",
    "        ax[i].set_xlim(-400,400)\n",
    "        ax[i].set_ylim(-400,400)\n",
    "        ax[i].set_facecolor('black')\n",
    "    fig.tight_layout()\n",
    "    fig.savefig(f'../figures/dataset1/cell_counts_phenotype_{c}_of_{num_clusters}_clusters.png')    "
   ]
  },
  {
   "cell_type": "markdown",
   "id": "92886955-92ab-46d8-84c6-8bd31b0ccd4e",
   "metadata": {},
   "source": [
    "# **Dataset 2**"
   ]
  },
  {
   "cell_type": "code",
   "execution_count": null,
   "id": "6eedead7-85ea-4023-954f-b9b7262fd924",
   "metadata": {},
   "outputs": [],
   "source": [
    "assert os.path.isfile(\"../results/dataset2/density_phenotype_inds.npy\")\n",
    "assert os.path.isfile(\"../results/dataset2/cell_counts_phenotype_inds.npy\")"
   ]
  },
  {
   "cell_type": "markdown",
   "id": "aeb8b6b0-feee-40be-89c1-5e2992f9f6af",
   "metadata": {},
   "source": [
    "## Density Phenotypes"
   ]
  },
  {
   "cell_type": "code",
   "execution_count": null,
   "id": "e75cad41-11bc-4cc3-8359-a7ffd984dfb1",
   "metadata": {
    "tags": []
   },
   "outputs": [],
   "source": [
    "# Visualize density phenotypes\n",
    "density_phenotype_inds = np.load(\"../results/dataset2/density_phenotype_inds.npy\", allow_pickle = True)\n",
    "for c, ind in enumerate(density_phenotype_inds):\n",
    "    file_name = parse_dataset2_file_name(ind)\n",
    "    out = np.load(file_name, allow_pickle = True)\n",
    "    fig, ax  = plt.subplots(1,6, figsize=(48,9))\n",
    "    fontsize = 20\n",
    "    L = out['L']\n",
    "    Xs = out['X'] - L/2\n",
    "    Ys = out['Y'] - L/2\n",
    "    states = out['state'].astype(int)\n",
    "    \n",
    "    # Visualize Phenotype progression over 10 days\n",
    "    for i, day in enumerate(np.arange(0,11,2)):\n",
    "        X = Xs[day]\n",
    "        Y = Ys[day]\n",
    "        state = states[day]\n",
    "        title = f\"Day {day}\"\n",
    "    \n",
    "        colormap = np.array([\"lightseagreen\", \"tab:red\", \"yellow\", \"limegreen\"])\n",
    "        ax[i].scatter(X,Y,c=colormap[state], s = 48)\n",
    "        ax[i].set_xticks([])\n",
    "        ax[i].set_yticks([])\n",
    "        ax[i].set_title(title,fontsize=3*fontsize)\n",
    "        ax[i].set_xlim(-400,400)\n",
    "        ax[i].set_ylim(-400,400)\n",
    "        ax[i].set_facecolor('black')\n",
    "    fig.tight_layout()\n",
    "    fig.savefig(f'../figures/dataset2/density_phenotype_{c}.png')\n",
    "    \n",
    "    # Plot final snapshot of phenotype for thumbnail to be used in parameter distribution figures\n",
    "    thumbnail_fig = plt.Figure(figsize = (8,8))\n",
    "    thumbnail_ax  = thumbnail_fig.add_subplot()\n",
    "    colormap = np.array([\"lightseagreen\", \"tab:red\", \"yellow\", \"limegreen\"])\n",
    "    thumbnail_ax.scatter(X,Y,c=colormap[state], s = 48)\n",
    "    thumbnail_ax.set_xticks([])\n",
    "    thumbnail_ax.set_yticks([])\n",
    "    thumbnail_ax.set_xlim(-400,400)\n",
    "    thumbnail_ax.set_ylim(-400,400)\n",
    "    thumbnail_fig.tight_layout()\n",
    "    thumbnail_fig.savefig(f'../figures/dataset2/density_thumbnail_{c}.svg')\n",
    "    "
   ]
  },
  {
   "cell_type": "markdown",
   "id": "123e13f5-4e9b-4ebd-a1b4-08bce61be4f4",
   "metadata": {},
   "source": [
    "## Cell Counts Phenotypes"
   ]
  },
  {
   "cell_type": "code",
   "execution_count": null,
   "id": "c8d10566-1e3d-456e-8566-65ab73ff852e",
   "metadata": {
    "tags": []
   },
   "outputs": [],
   "source": [
    "# Visualize cell counts phenotypes\n",
    "cell_counts_phenotype_inds = np.load(\"../results/dataset2/cell_counts_phenotype_inds.npy\", allow_pickle = True)\n",
    "for c, ind in enumerate(cell_counts_phenotype_inds):\n",
    "    file_name = parse_dataset2_file_name(ind)\n",
    "    out = np.load(file_name, allow_pickle = True)\n",
    "    fig, ax  = plt.subplots(1,6, figsize=(48,9))\n",
    "    fontsize = 20\n",
    "    L = out['L']\n",
    "    Xs = out['X'] - L/2\n",
    "    Ys = out['Y'] - L/2\n",
    "    states = out['state'].astype(int)\n",
    "    \n",
    "    # Visualize Phenotype progression over 10 days\n",
    "    for i, day in enumerate(np.arange(0,11,2)):\n",
    "        X = Xs[day]\n",
    "        Y = Ys[day]\n",
    "        state = states[day]\n",
    "        title = f\"Day {day}\"\n",
    "    \n",
    "        colormap = np.array([\"lightseagreen\", \"tab:red\", \"yellow\", \"limegreen\"])\n",
    "        ax[i].scatter(X,Y,c=colormap[state], s = 48)\n",
    "        ax[i].set_xticks([])\n",
    "        ax[i].set_yticks([])\n",
    "        ax[i].set_title(title,fontsize=3*fontsize)\n",
    "        ax[i].set_xlim(-400,400)\n",
    "        ax[i].set_ylim(-400,400)\n",
    "        ax[i].set_facecolor('black')\n",
    "    fig.tight_layout()\n",
    "    fig.savefig(f'../figures/dataset2/cell_counts_phenotype_{c}.png')\n",
    "    \n",
    "    # Plot final snapshot of phenotype for thumbnail to be used in parameter distribution figures\n",
    "    thumbnail_fig = plt.Figure(figsize = (8,8))\n",
    "    thumbnail_ax  = thumbnail_fig.add_subplot()\n",
    "    colormap = np.array([\"lightseagreen\", \"tab:red\", \"yellow\", \"limegreen\"])\n",
    "    thumbnail_ax.scatter(X,Y,c=colormap[state], s = 48)\n",
    "    thumbnail_ax.set_xticks([])\n",
    "    thumbnail_ax.set_yticks([])\n",
    "    thumbnail_ax.set_xlim(-400,400)\n",
    "    thumbnail_ax.set_ylim(-400,400)\n",
    "    thumbnail_fig.tight_layout()\n",
    "    thumbnail_fig.savefig(f'../figures/dataset2/cell_counts_thumbnail_{c}.svg')\n",
    "    "
   ]
  }
 ],
 "metadata": {
  "kernelspec": {
   "display_name": "Python 3.10.11 (ipykernel)",
   "language": "python",
   "name": "python3"
  },
  "language_info": {
   "codemirror_mode": {
    "name": "ipython",
    "version": 3
   },
   "file_extension": ".py",
   "mimetype": "text/x-python",
   "name": "python",
   "nbconvert_exporter": "python",
   "pygments_lexer": "ipython3",
   "version": "3.10.11"
  }
 },
 "nbformat": 4,
 "nbformat_minor": 5
}
